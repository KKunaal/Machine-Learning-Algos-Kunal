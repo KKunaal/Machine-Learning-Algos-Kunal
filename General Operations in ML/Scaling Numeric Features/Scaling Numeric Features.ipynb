{
 "cells": [
  {
   "cell_type": "markdown",
   "id": "d49d68f1",
   "metadata": {},
   "source": [
    "## Scaling Numeric Features\n",
    "\n",
    "Another good practice is to scale numeric features to a small range of values e.g. $(0,1)$ or $(-1,1)$. Scaling numeric features ensures that no particular feature has a disproportionate impact on the model's loss. Optimization algorithms also work better in practice with smaller numbers.\n",
    "\n",
    "The numeric columns in our dataset have varying ranges."
   ]
  },
  {
   "cell_type": "code",
   "execution_count": 1,
   "id": "c455c0f0",
   "metadata": {},
   "outputs": [],
   "source": [
    "import pandas as pd\n",
    "import numpy as np\n",
    "raw_df = pd.read_csv(\"weather-dataset-rattle-package/weatherAUS.csv\")\n",
    "numeric_cols = raw_df.select_dtypes(include=np.number).columns.tolist()\n",
    "categorical_cols = raw_df.select_dtypes('object').columns.tolist()"
   ]
  },
  {
   "cell_type": "markdown",
   "id": "67036ef6",
   "metadata": {},
   "source": [
    "Let's use `MinMaxScaler` from `sklearn.preprocessing` to scale values to the $(0,1)$ range."
   ]
  },
  {
   "cell_type": "code",
   "execution_count": null,
   "id": "a60f781d",
   "metadata": {},
   "outputs": [],
   "source": [
    "from sklearn.preprocessing import MinMaxScaler"
   ]
  },
  {
   "cell_type": "code",
   "execution_count": null,
   "id": "44cc5c9f",
   "metadata": {},
   "outputs": [],
   "source": [
    "# ?MinMaxScaler"
   ]
  },
  {
   "cell_type": "code",
   "execution_count": null,
   "id": "e1644618",
   "metadata": {},
   "outputs": [],
   "source": [
    "scaler = MinMaxScaler()"
   ]
  },
  {
   "cell_type": "markdown",
   "id": "39f37fa8",
   "metadata": {},
   "source": [
    "First, we `fit` the scaler to the data i.e. compute the range of values for each numeric column."
   ]
  },
  {
   "cell_type": "code",
   "execution_count": null,
   "id": "33394066",
   "metadata": {},
   "outputs": [],
   "source": [
    "scaler.fit(raw_df[numeric_cols])"
   ]
  },
  {
   "cell_type": "markdown",
   "id": "952c27c1",
   "metadata": {},
   "source": [
    "We can now inspect the minimum and maximum values in each column."
   ]
  },
  {
   "cell_type": "code",
   "execution_count": null,
   "id": "3da39fcd",
   "metadata": {},
   "outputs": [],
   "source": [
    "print('Minimum:')\n",
    "list(scaler.data_min_)"
   ]
  },
  {
   "cell_type": "code",
   "execution_count": null,
   "id": "ae67920f",
   "metadata": {},
   "outputs": [],
   "source": [
    "print('Maximum:')\n",
    "list(scaler.data_max_)"
   ]
  },
  {
   "cell_type": "code",
   "execution_count": null,
   "id": "7585fc1e",
   "metadata": {},
   "outputs": [],
   "source": [
    "raw_df[numeric_cols].describe()"
   ]
  },
  {
   "cell_type": "code",
   "execution_count": null,
   "id": "b9151c86",
   "metadata": {},
   "outputs": [],
   "source": [
    "raw_df[numeric_cols] = scaler.transform(raw_df[numeric_cols])"
   ]
  },
  {
   "cell_type": "code",
   "execution_count": null,
   "id": "665cbf76",
   "metadata": {},
   "outputs": [],
   "source": [
    "raw_df[numeric_cols].describe()"
   ]
  },
  {
   "cell_type": "code",
   "execution_count": null,
   "id": "c8a9ee2a",
   "metadata": {},
   "outputs": [],
   "source": []
  }
 ],
 "metadata": {
  "kernelspec": {
   "display_name": "Python 3 (ipykernel)",
   "language": "python",
   "name": "python3"
  },
  "language_info": {
   "codemirror_mode": {
    "name": "ipython",
    "version": 3
   },
   "file_extension": ".py",
   "mimetype": "text/x-python",
   "name": "python",
   "nbconvert_exporter": "python",
   "pygments_lexer": "ipython3",
   "version": "3.9.6"
  }
 },
 "nbformat": 4,
 "nbformat_minor": 5
}
