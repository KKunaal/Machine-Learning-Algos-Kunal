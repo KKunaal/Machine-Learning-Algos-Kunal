{
 "cells": [
  {
   "cell_type": "code",
   "execution_count": 1,
   "id": "113bab0b",
   "metadata": {},
   "outputs": [],
   "source": [
    "!pip install opendatasets --upgrade --quiet"
   ]
  },
  {
   "cell_type": "code",
   "execution_count": 2,
   "id": "a35af184",
   "metadata": {},
   "outputs": [],
   "source": [
    "import opendatasets as od"
   ]
  },
  {
   "cell_type": "code",
   "execution_count": 4,
   "id": "1eb8603e",
   "metadata": {},
   "outputs": [],
   "source": [
    "dataset_url = 'https://www.kaggle.com/jsphyg/weather-dataset-rattle-package'"
   ]
  },
  {
   "cell_type": "code",
   "execution_count": 5,
   "id": "9768a793",
   "metadata": {},
   "outputs": [
    {
     "name": "stdout",
     "output_type": "stream",
     "text": [
      "Skipping, found downloaded files in \"./weather-dataset-rattle-package\" (use force=True to force download)\n"
     ]
    }
   ],
   "source": [
    "od.download(dataset_url)"
   ]
  },
  {
   "cell_type": "code",
   "execution_count": 7,
   "id": "389fc864",
   "metadata": {},
   "outputs": [],
   "source": [
    "import os\n",
    "data_dir = './weather-dataset-rattle-package'\n",
    "os.listdir(data_dir)\n",
    "train_csv = data_dir + '/weatherAUS.csv'"
   ]
  },
  {
   "cell_type": "code",
   "execution_count": 8,
   "id": "9eedeac2",
   "metadata": {},
   "outputs": [],
   "source": [
    "import pandas as pd"
   ]
  },
  {
   "cell_type": "code",
   "execution_count": 9,
   "id": "9fbc9a71",
   "metadata": {},
   "outputs": [],
   "source": [
    "raw_df = pd.read_csv(train_csv)"
   ]
  },
  {
   "cell_type": "markdown",
   "id": "3c216b3f",
   "metadata": {},
   "source": [
    "# Test Train Validation Split"
   ]
  },
  {
   "cell_type": "code",
   "execution_count": 10,
   "id": "66b0acc8",
   "metadata": {},
   "outputs": [],
   "source": [
    "!pip install scikit-learn --upgrade --quiet"
   ]
  },
  {
   "cell_type": "code",
   "execution_count": 11,
   "id": "e71b1a2d",
   "metadata": {},
   "outputs": [],
   "source": [
    "from sklearn.model_selection import train_test_split"
   ]
  },
  {
   "cell_type": "code",
   "execution_count": 12,
   "id": "9d50e90c",
   "metadata": {},
   "outputs": [],
   "source": [
    "train_val_df, test_df = train_test_split(raw_df, test_size=0.2, random_state=42)\n",
    "train_df, val_df = train_test_split(train_val_df, test_size=0.25, random_state=42)"
   ]
  },
  {
   "cell_type": "code",
   "execution_count": 13,
   "id": "9361bcf5",
   "metadata": {},
   "outputs": [
    {
     "name": "stdout",
     "output_type": "stream",
     "text": [
      "train_df.shape : (87276, 23)\n",
      "val_df.shape : (29092, 23)\n",
      "test_df.shape : (29092, 23)\n"
     ]
    }
   ],
   "source": [
    "print('train_df.shape :', train_df.shape)\n",
    "print('val_df.shape :', val_df.shape)\n",
    "print('test_df.shape :', test_df.shape)"
   ]
  },
  {
   "cell_type": "code",
   "execution_count": null,
   "id": "7182ffa2",
   "metadata": {},
   "outputs": [],
   "source": []
  }
 ],
 "metadata": {
  "kernelspec": {
   "display_name": "Python 3 (ipykernel)",
   "language": "python",
   "name": "python3"
  },
  "language_info": {
   "codemirror_mode": {
    "name": "ipython",
    "version": 3
   },
   "file_extension": ".py",
   "mimetype": "text/x-python",
   "name": "python",
   "nbconvert_exporter": "python",
   "pygments_lexer": "ipython3",
   "version": "3.9.6"
  }
 },
 "nbformat": 4,
 "nbformat_minor": 5
}
