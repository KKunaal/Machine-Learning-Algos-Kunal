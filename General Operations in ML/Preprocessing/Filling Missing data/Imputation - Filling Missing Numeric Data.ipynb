{
 "cells": [
  {
   "cell_type": "markdown",
   "id": "a4bc0011",
   "metadata": {},
   "source": [
    "## Imputing Missing Numeric Data\n",
    "\n",
    "Machine learning models can't work with missing numerical data. The process of filling missing values is called imputation.\n",
    "\n",
    "<img src=\"https://i.imgur.com/W7cfyOp.png\" width=\"480\">\n",
    "\n",
    "There are several techniques for imputation, but we'll use the most basic one: replacing missing values with the average value in the column using the `SimpleImputer` class from `sklearn.impute`."
   ]
  },
  {
   "cell_type": "code",
   "execution_count": 1,
   "id": "72fa5559",
   "metadata": {},
   "outputs": [],
   "source": [
    "import pandas as pd\n",
    "import numpy as np\n",
    "raw_df = pd.read_csv(\"weather-dataset-rattle-package/weatherAUS.csv\")\n",
    "numeric_cols = raw_df.select_dtypes(include=np.number).columns.tolist()\n",
    "categorical_cols = raw_df.select_dtypes('object').columns.tolist()"
   ]
  },
  {
   "cell_type": "markdown",
   "id": "73cae52f",
   "metadata": {},
   "source": [
    "Before we perform imputation, let's check the no. of missing values in each numeric column."
   ]
  },
  {
   "cell_type": "code",
   "execution_count": 2,
   "id": "02f1b8d1",
   "metadata": {},
   "outputs": [
    {
     "data": {
      "text/plain": [
       "MinTemp           1485\n",
       "MaxTemp           1261\n",
       "Rainfall          3261\n",
       "Evaporation      62790\n",
       "Sunshine         69835\n",
       "WindGustSpeed    10263\n",
       "WindSpeed9am      1767\n",
       "WindSpeed3pm      3062\n",
       "Humidity9am       2654\n",
       "Humidity3pm       4507\n",
       "Pressure9am      15065\n",
       "Pressure3pm      15028\n",
       "Cloud9am         55888\n",
       "Cloud3pm         59358\n",
       "Temp9am           1767\n",
       "Temp3pm           3609\n",
       "dtype: int64"
      ]
     },
     "execution_count": 2,
     "metadata": {},
     "output_type": "execute_result"
    }
   ],
   "source": [
    "raw_df[numeric_cols].isna().sum()"
   ]
  },
  {
   "cell_type": "markdown",
   "id": "379f879b",
   "metadata": {},
   "source": [
    "The first step in imputation is to `fit` the imputer to the data i.e. compute the chosen statistic (e.g. mean) for each column in the dataset. "
   ]
  },
  {
   "cell_type": "code",
   "execution_count": 3,
   "id": "7f2cdb55",
   "metadata": {},
   "outputs": [],
   "source": [
    "from sklearn.impute import SimpleImputer"
   ]
  },
  {
   "cell_type": "code",
   "execution_count": 10,
   "id": "2243270b",
   "metadata": {},
   "outputs": [],
   "source": [
    "# For info regarging SimpleImputer in sklearn.impute library\n",
    "# A pop up is opened where related information is shown\n",
    "?SimpleImputer"
   ]
  },
  {
   "cell_type": "code",
   "execution_count": 4,
   "id": "cc01c236",
   "metadata": {},
   "outputs": [],
   "source": [
    "imputer = SimpleImputer(strategy = 'mean')\n",
    "#imputer = SimpleImputer(strategy = 'median')"
   ]
  },
  {
   "cell_type": "markdown",
   "id": "01be7bc0",
   "metadata": {},
   "source": [
    "Other strategies include 'median' (for columns like salary, median would work better) or replace with some fixed value"
   ]
  },
  {
   "cell_type": "code",
   "execution_count": 5,
   "id": "13e8c929",
   "metadata": {},
   "outputs": [
    {
     "data": {
      "text/plain": [
       "SimpleImputer()"
      ]
     },
     "execution_count": 5,
     "metadata": {},
     "output_type": "execute_result"
    }
   ],
   "source": [
    "imputer.fit(raw_df[numeric_cols])"
   ]
  },
  {
   "cell_type": "markdown",
   "id": "20dd24ba",
   "metadata": {},
   "source": [
    "After calling `fit`, the computed statistic for each column is stored in the `statistics_` property of `imputer`."
   ]
  },
  {
   "cell_type": "code",
   "execution_count": 6,
   "id": "05e5259a",
   "metadata": {},
   "outputs": [
    {
     "data": {
      "text/plain": [
       "[12.19403438096892,\n",
       " 23.22134827564685,\n",
       " 2.3609181499166656,\n",
       " 5.468231522922462,\n",
       " 7.6111775206611565,\n",
       " 40.03523007167319,\n",
       " 14.043425914971502,\n",
       " 18.662656778887342,\n",
       " 68.88083133761887,\n",
       " 51.5391158755046,\n",
       " 1017.6499397983052,\n",
       " 1015.2558888309618,\n",
       " 4.4474612602152455,\n",
       " 4.509930082924903,\n",
       " 16.990631415587398,\n",
       " 21.68339031800974]"
      ]
     },
     "execution_count": 6,
     "metadata": {},
     "output_type": "execute_result"
    }
   ],
   "source": [
    "list(imputer.statistics_)"
   ]
  },
  {
   "cell_type": "markdown",
   "id": "20afd30e",
   "metadata": {},
   "source": [
    "Now we can fill in the missing values using the `transform` method of `imputer`."
   ]
  },
  {
   "cell_type": "code",
   "execution_count": 7,
   "id": "abaaf973",
   "metadata": {},
   "outputs": [],
   "source": [
    "raw_df[numeric_cols] = imputer.transform(raw_df[numeric_cols])"
   ]
  },
  {
   "cell_type": "code",
   "execution_count": 8,
   "id": "2289149a",
   "metadata": {},
   "outputs": [
    {
     "data": {
      "text/plain": [
       "MinTemp          0\n",
       "MaxTemp          0\n",
       "Rainfall         0\n",
       "Evaporation      0\n",
       "Sunshine         0\n",
       "WindGustSpeed    0\n",
       "WindSpeed9am     0\n",
       "WindSpeed3pm     0\n",
       "Humidity9am      0\n",
       "Humidity3pm      0\n",
       "Pressure9am      0\n",
       "Pressure3pm      0\n",
       "Cloud9am         0\n",
       "Cloud3pm         0\n",
       "Temp9am          0\n",
       "Temp3pm          0\n",
       "dtype: int64"
      ]
     },
     "execution_count": 8,
     "metadata": {},
     "output_type": "execute_result"
    }
   ],
   "source": [
    "raw_df[numeric_cols].isna().sum()"
   ]
  },
  {
   "cell_type": "markdown",
   "id": "e5caa49f",
   "metadata": {},
   "source": [
    "We can see that there are no missing values in data now"
   ]
  },
  {
   "cell_type": "code",
   "execution_count": null,
   "id": "eb4771bc",
   "metadata": {},
   "outputs": [],
   "source": []
  }
 ],
 "metadata": {
  "kernelspec": {
   "display_name": "Python 3 (ipykernel)",
   "language": "python",
   "name": "python3"
  },
  "language_info": {
   "codemirror_mode": {
    "name": "ipython",
    "version": 3
   },
   "file_extension": ".py",
   "mimetype": "text/x-python",
   "name": "python",
   "nbconvert_exporter": "python",
   "pygments_lexer": "ipython3",
   "version": "3.9.6"
  }
 },
 "nbformat": 4,
 "nbformat_minor": 5
}
